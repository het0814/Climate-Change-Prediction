{
 "cells": [
  {
   "cell_type": "markdown",
   "metadata": {},
   "source": [
    "# Load and Structure Data"
   ]
  },
  {
   "cell_type": "markdown",
   "metadata": {},
   "source": [
    "## Load the data"
   ]
  },
  {
   "cell_type": "code",
   "execution_count": 22,
   "metadata": {},
   "outputs": [
    {
     "name": "stdout",
     "output_type": "stream",
     "text": [
      "   Year   Jan   Feb   Mar   Apr   May   Jun   Jul   Aug   Sep   Oct   Nov  \\\n",
      "0  1880 -0.19 -0.25 -0.09 -0.17 -0.10 -0.21 -0.18 -0.11 -0.15 -0.24 -0.22   \n",
      "1  1881 -0.20 -0.15  0.03  0.05  0.05 -0.19  0.00 -0.04 -0.16 -0.22 -0.19   \n",
      "2  1882  0.16  0.13  0.04 -0.16 -0.14 -0.22 -0.17 -0.08 -0.15 -0.24 -0.17   \n",
      "3  1883 -0.30 -0.37 -0.13 -0.19 -0.18 -0.08 -0.08 -0.14 -0.23 -0.12 -0.24   \n",
      "4  1884 -0.13 -0.09 -0.37 -0.40 -0.34 -0.35 -0.31 -0.28 -0.28 -0.25 -0.34   \n",
      "\n",
      "    Dec   J-D   D-N   DJF   MAM   JJA   SON  \n",
      "0 -0.18 -0.17   NaN   NaN -0.12 -0.17 -0.20  \n",
      "1 -0.08 -0.09 -0.10 -0.18  0.04 -0.08 -0.19  \n",
      "2 -0.36 -0.11 -0.09  0.07 -0.09 -0.16 -0.19  \n",
      "3 -0.11 -0.18 -0.20 -0.34 -0.17 -0.10 -0.20  \n",
      "4 -0.31 -0.29 -0.27 -0.11 -0.37 -0.32 -0.29  \n",
      "<class 'pandas.core.frame.DataFrame'>\n",
      "RangeIndex: 144 entries, 0 to 143\n",
      "Data columns (total 19 columns):\n",
      " #   Column  Non-Null Count  Dtype  \n",
      "---  ------  --------------  -----  \n",
      " 0   Year    144 non-null    int64  \n",
      " 1   Jan     144 non-null    float64\n",
      " 2   Feb     144 non-null    float64\n",
      " 3   Mar     144 non-null    float64\n",
      " 4   Apr     144 non-null    float64\n",
      " 5   May     144 non-null    float64\n",
      " 6   Jun     143 non-null    float64\n",
      " 7   Jul     143 non-null    float64\n",
      " 8   Aug     143 non-null    float64\n",
      " 9   Sep     143 non-null    float64\n",
      " 10  Oct     143 non-null    float64\n",
      " 11  Nov     143 non-null    float64\n",
      " 12  Dec     143 non-null    float64\n",
      " 13  J-D     143 non-null    float64\n",
      " 14  D-N     142 non-null    float64\n",
      " 15  DJF     143 non-null    float64\n",
      " 16  MAM     144 non-null    float64\n",
      " 17  JJA     143 non-null    float64\n",
      " 18  SON     143 non-null    float64\n",
      "dtypes: float64(18), int64(1)\n",
      "memory usage: 21.5 KB\n",
      "None\n"
     ]
    }
   ],
   "source": [
    "import pandas as pd\n",
    "df = pd.read_csv('../data/raw/temp_anomalies.csv')\n",
    "print(df.head())\n",
    "print(df.info())"
   ]
  },
  {
   "cell_type": "markdown",
   "metadata": {},
   "source": [
    "## Reshape data to Time Series"
   ]
  },
  {
   "cell_type": "code",
   "execution_count": 23,
   "metadata": {},
   "outputs": [
    {
     "name": "stdout",
     "output_type": "stream",
     "text": [
      "            Temp_Anomaly\n",
      "Date                    \n",
      "1880-01-01         -0.19\n",
      "1880-02-01         -0.25\n",
      "1880-03-01         -0.09\n",
      "1880-04-01         -0.17\n",
      "1880-05-01         -0.10\n"
     ]
    }
   ],
   "source": [
    "# Melt the monthly columns into a long format\n",
    "monthly_df = df.melt(id_vars=['Year'], value_vars=['Jan', 'Feb', 'Mar', 'Apr', 'May', 'Jun', 'Jul', 'Aug', 'Sep', 'Oct', 'Nov', 'Dec'], var_name='Month', value_name='Temp_Anomaly')\n",
    "\n",
    "# Create a Date column\n",
    "month_map = {'Jan': '01', 'Feb': '02', 'Mar': '03', 'Apr': '04', 'May': '05', 'Jun': '06','Jul': '07', 'Aug': '08', 'Sep': '09', 'Oct': '10', 'Nov': '11', 'Dec': '12'}\n",
    "monthly_df['Month'] = monthly_df['Month'].map(month_map)\n",
    "monthly_df['Date'] = pd.to_datetime(monthly_df['Year'].astype(str) + '-' + monthly_df['Month'] + '-01')\n",
    "\n",
    "# Sort by date and set as index\n",
    "monthly_df = monthly_df[['Date', 'Temp_Anomaly']].sort_values('Date').set_index('Date')\n",
    "print(monthly_df.head())"
   ]
  }
 ],
 "metadata": {
  "kernelspec": {
   "display_name": "venv",
   "language": "python",
   "name": "python3"
  },
  "language_info": {
   "codemirror_mode": {
    "name": "ipython",
    "version": 3
   },
   "file_extension": ".py",
   "mimetype": "text/x-python",
   "name": "python",
   "nbconvert_exporter": "python",
   "pygments_lexer": "ipython3",
   "version": "3.13.1"
  }
 },
 "nbformat": 4,
 "nbformat_minor": 2
}
